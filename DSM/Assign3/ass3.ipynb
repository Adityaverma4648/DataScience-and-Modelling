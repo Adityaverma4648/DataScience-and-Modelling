{
 "cells": [
  {
   "cell_type": "code",
   "execution_count": 30,
   "metadata": {},
   "outputs": [],
   "source": [
    "import pandas as pd\n",
    "import numpy as np\n",
    "import seaborn as sns\n",
    "import matplotlib.pyplot as plt\n",
    "\n",
    "# from sklearn import linear_model\n",
    "# from sklearn.linear_model import LogisticRegression\n",
    "# from sklearn.model_selection import train_test_split\n",
    "# from sklearn.metrics import mean_squared_error , accuracy_score , confusion_matrix"
   ]
  },
  {
   "cell_type": "code",
   "execution_count": 31,
   "metadata": {},
   "outputs": [
    {
     "name": "stdout",
     "output_type": "stream",
     "text": [
      "<class 'pandas.core.frame.DataFrame'>\n",
      "Index: 50001 entries, 30/03/2016 13:51 to 22/03/2016 9:54\n",
      "Data columns (total 18 columns):\n",
      " #   Column               Non-Null Count  Dtype \n",
      "---  ------               --------------  ----- \n",
      " 0   name                 50001 non-null  object\n",
      " 1   seller               50001 non-null  object\n",
      " 2   offerType            50001 non-null  object\n",
      " 3   price                50001 non-null  int64 \n",
      " 4   abtest               50001 non-null  object\n",
      " 5   vehicleType          44813 non-null  object\n",
      " 6   yearOfRegistration   50001 non-null  int64 \n",
      " 7   gearbox              47177 non-null  object\n",
      " 8   powerPS              50001 non-null  int64 \n",
      " 9   model                47243 non-null  object\n",
      " 10  kilometer            50001 non-null  int64 \n",
      " 11  monthOfRegistration  50001 non-null  int64 \n",
      " 12  fuelType             45498 non-null  object\n",
      " 13  brand                50001 non-null  object\n",
      " 14  notRepairedDamage    40285 non-null  object\n",
      " 15  dateCreated          50001 non-null  object\n",
      " 16  postalCode           50001 non-null  int64 \n",
      " 17  lastSeen             50001 non-null  object\n",
      "dtypes: int64(6), object(12)\n",
      "memory usage: 7.2+ MB\n"
     ]
    }
   ],
   "source": [
    "d = pd.read_csv('./carSample.csv',index_col=0)\n",
    "d.info()"
   ]
  },
  {
   "cell_type": "code",
   "execution_count": 32,
   "metadata": {},
   "outputs": [
    {
     "name": "stdout",
     "output_type": "stream",
     "text": [
      "name                   object\n",
      "seller                 object\n",
      "offerType              object\n",
      "price                   int64\n",
      "abtest                 object\n",
      "vehicleType            object\n",
      "yearOfRegistration      int64\n",
      "gearbox                object\n",
      "powerPS                 int64\n",
      "model                  object\n",
      "kilometer               int64\n",
      "monthOfRegistration     int64\n",
      "fuelType               object\n",
      "brand                  object\n",
      "notRepairedDamage      object\n",
      "dateCreated            object\n",
      "postalCode              int64\n",
      "lastSeen               object\n",
      "dtype: object\n"
     ]
    }
   ],
   "source": [
    "print(d.dtypes)"
   ]
  },
  {
   "cell_type": "markdown",
   "metadata": {},
   "source": [
    "Droping unwanted columns"
   ]
  },
  {
   "cell_type": "code",
   "execution_count": 33,
   "metadata": {},
   "outputs": [
    {
     "name": "stdout",
     "output_type": "stream",
     "text": [
      "<class 'pandas.core.frame.DataFrame'>\n",
      "Index: 50001 entries, 30/03/2016 13:51 to 22/03/2016 9:54\n",
      "Data columns (total 14 columns):\n",
      " #   Column               Non-Null Count  Dtype \n",
      "---  ------               --------------  ----- \n",
      " 0   seller               50001 non-null  object\n",
      " 1   offerType            50001 non-null  object\n",
      " 2   price                50001 non-null  int64 \n",
      " 3   abtest               50001 non-null  object\n",
      " 4   vehicleType          44813 non-null  object\n",
      " 5   yearOfRegistration   50001 non-null  int64 \n",
      " 6   gearbox              47177 non-null  object\n",
      " 7   powerPS              50001 non-null  int64 \n",
      " 8   model                47243 non-null  object\n",
      " 9   kilometer            50001 non-null  int64 \n",
      " 10  monthOfRegistration  50001 non-null  int64 \n",
      " 11  fuelType             45498 non-null  object\n",
      " 12  brand                50001 non-null  object\n",
      " 13  notRepairedDamage    40285 non-null  object\n",
      "dtypes: int64(5), object(9)\n",
      "memory usage: 5.7+ MB\n"
     ]
    }
   ],
   "source": [
    "col=['name','dateCreated','postalCode','lastSeen']\n",
    "d.drop(columns=col,axis = 1,inplace=True)\n",
    "d.info()"
   ]
  },
  {
   "cell_type": "code",
   "execution_count": 38,
   "metadata": {},
   "outputs": [
    {
     "name": "stdout",
     "output_type": "stream",
     "text": [
      "\n"
     ]
    }
   ],
   "source": [
    "\n",
    "print(  \n",
    "# np.unique(d[\"name\"]),\n",
    "# np.unique(d[\"seller\"]), \n",
    "# np.unique(d[\"offerType\"]),                    \n",
    "# np.unique(d[\"price\"]),                    \n",
    "# np.unique(d[\"abtest\"]),                    \n",
    "# np.unique(d[\"vehicleType\"]),                    \n",
    "# np.unique(d[\"yearOfRegistration\"]),                    \n",
    "# np.unique(d[\"gearbox\"]),                    \n",
    "# np.unique(d[\"powerPS\"]),                    \n",
    "# np.unique(d[\"model\"]),                    \n",
    "# np.unique(d[\"kilometer\"]),                    \n",
    "# np.unique(d[\"monthOfRegistration\"]),                    \n",
    "# np.unique(d[\"fuelType\"]),                    \n",
    "# np.unique(d[\"brand\"]),                    \n",
    "# np.unique(d[\"notRepairedDamage\"]),   \n",
    "# np.unique(d[\"dateCreated\"]),                    \n",
    "# np.unique(d[\"postalCode\"])  \n",
    "# np.unique(d[\"lastSeen\"])                \n",
    ")\n"
   ]
  },
  {
   "cell_type": "markdown",
   "metadata": {},
   "source": [
    "Removing duplicates"
   ]
  },
  {
   "cell_type": "code",
   "execution_count": 39,
   "metadata": {},
   "outputs": [],
   "source": [
    "d.drop_duplicates(keep=\"first\", inplace=True)"
   ]
  },
  {
   "cell_type": "markdown",
   "metadata": {},
   "source": [
    "data cleaning\n",
    "\n",
    "   001 Handling missing values"
   ]
  },
  {
   "cell_type": "code",
   "execution_count": null,
   "metadata": {},
   "outputs": [
    {
     "name": "stdout",
     "output_type": "stream",
     "text": [
      "name                      0\n",
      "seller                    0\n",
      "offerType                 0\n",
      "price                     0\n",
      "abtest                    0\n",
      "vehicleType            5188\n",
      "yearOfRegistration        0\n",
      "gearbox                2824\n",
      "powerPS                   0\n",
      "model                  2758\n",
      "kilometer                 0\n",
      "monthOfRegistration       0\n",
      "fuelType               4503\n",
      "brand                     0\n",
      "notRepairedDamage      9716\n",
      "dateCreated               0\n",
      "postalCode                0\n",
      "lastSeen                  0\n",
      "dtype: int64\n"
     ]
    }
   ],
   "source": [
    "print(d.isna().sum())"
   ]
  },
  {
   "cell_type": "markdown",
   "metadata": {},
   "source": [
    "cleaning data column year_of_registration"
   ]
  },
  {
   "cell_type": "code",
   "execution_count": 51,
   "metadata": {},
   "outputs": [
    {
     "name": "stdout",
     "output_type": "stream",
     "text": [
      "2000    3275\n",
      "2005    3101\n",
      "1999    3026\n",
      "2001    2782\n",
      "2003    2731\n",
      "        ... \n",
      "8500       1\n",
      "1954       1\n",
      "7500       1\n",
      "1934       1\n",
      "1933       1\n",
      "Name: yearOfRegistration, Length: 97, dtype: int64\n",
      "1000     6\n",
      "1255     1\n",
      "1500     2\n",
      "1910    14\n",
      "1928     1\n",
      "        ..\n",
      "7500     1\n",
      "7800     1\n",
      "8500     1\n",
      "8888     2\n",
      "9999     7\n",
      "Name: yearOfRegistration, Length: 97, dtype: int64\n"
     ]
    }
   ],
   "source": [
    "yearwise_counts = d[\"yearOfRegistration\"].value_counts()\n",
    "print(yearwise_counts)\n",
    "yearwise_counts =  d['yearOfRegistration'].value_counts().sort_index()\n",
    "\n",
    "\n"
   ]
  }
 ],
 "metadata": {
  "kernelspec": {
   "display_name": "Python 3.10.6 64-bit",
   "language": "python",
   "name": "python3"
  },
  "language_info": {
   "codemirror_mode": {
    "name": "ipython",
    "version": 3
   },
   "file_extension": ".py",
   "mimetype": "text/x-python",
   "name": "python",
   "nbconvert_exporter": "python",
   "pygments_lexer": "ipython3",
   "version": "3.10.6"
  },
  "orig_nbformat": 4,
  "vscode": {
   "interpreter": {
    "hash": "26de051ba29f2982a8de78e945f0abaf191376122a1563185a90213a26c5da77"
   }
  }
 },
 "nbformat": 4,
 "nbformat_minor": 2
}
