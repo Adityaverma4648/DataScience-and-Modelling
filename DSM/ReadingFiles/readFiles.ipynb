{
 "cells": [
  {
   "cell_type": "code",
   "execution_count": null,
   "metadata": {},
   "outputs": [],
   "source": [
    "import numpy as np\n",
    "import pandas as pd\n",
    "import os\n",
    "import matplotlib.pyplot as plt\n",
    "import seaborn as sns\n"
   ]
  },
  {
   "cell_type": "markdown",
   "metadata": {},
   "source": [
    "Reading CSV(Comma Seperated Values) files"
   ]
  },
  {
   "cell_type": "code",
   "execution_count": null,
   "metadata": {},
   "outputs": [],
   "source": [
    "\n",
    "df01 = pd.read_csv(\"./Toyota.csv\")   # noAddditionalAttr\n",
    "\n",
    "df02 = pd.read_csv(\"./Toyota.csv\",index_col=0)   # index_col = 0 removing csv files default index columns\n"
   ]
  },
  {
   "cell_type": "markdown",
   "metadata": {},
   "source": [
    "Reading .txt(Text) files\n",
    "\n",
    "comma and space are common Delimiter on txt files\n",
    "\n",
    "Note : read_csv can also be used to read txt files.\n"
   ]
  },
  {
   "cell_type": "code",
   "execution_count": null,
   "metadata": {},
   "outputs": [],
   "source": [
    "df11 = pd.read_table(\"./hello.txt\")   # noAddditionalAttr\n",
    "\n",
    "df12 = pd.read_table(\"./hello.txt\",index_col=0)   # index_col = 0 removing csv files default index columns\n"
   ]
  },
  {
   "cell_type": "markdown",
   "metadata": {},
   "source": [
    "Reading Excel(.xlsx) files"
   ]
  },
  {
   "cell_type": "code",
   "execution_count": null,
   "metadata": {},
   "outputs": [],
   "source": [
    "# df21 = pd.read_excel(\"./hello.txt\")   # noAddditionalAttr\n",
    "\n",
    "# df22 = pd.read_excel(\"./hello.txt\",index_col=0)   # index_col = 0 removing csv files default index columns"
   ]
  }
 ],
 "metadata": {
  "kernelspec": {
   "display_name": "Python 3.10.6 64-bit",
   "language": "python",
   "name": "python3"
  },
  "language_info": {
   "name": "python",
   "version": "3.10.6"
  },
  "orig_nbformat": 4,
  "vscode": {
   "interpreter": {
    "hash": "26de051ba29f2982a8de78e945f0abaf191376122a1563185a90213a26c5da77"
   }
  }
 },
 "nbformat": 4,
 "nbformat_minor": 2
}
